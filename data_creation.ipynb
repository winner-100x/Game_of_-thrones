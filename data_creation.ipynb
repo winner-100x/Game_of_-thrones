{
 "cells": [
  {
   "cell_type": "code",
   "execution_count": 1,
   "id": "0f38e56d",
   "metadata": {},
   "outputs": [
    {
     "name": "stdout",
     "output_type": "stream",
     "text": [
      "numpy, pandas imported...\n",
      "os imported\n",
      "warnings imported...\n",
      "time, date imported\n",
      "requests, json and urllib3 imported...\n"
     ]
    },
    {
     "data": {
      "text/html": [
       "<style>.container { width:100% !important; }</style>"
      ],
      "text/plain": [
       "<IPython.core.display.HTML object>"
      ]
     },
     "metadata": {},
     "output_type": "display_data"
    },
    {
     "name": "stdout",
     "output_type": "stream",
     "text": [
      "json imported...\n"
     ]
    }
   ],
   "source": [
    "import pandas as pd\n",
    "import os\n",
    "import numpy as np\n",
    "print('numpy, pandas imported...')\n",
    "\n",
    "print('os imported')\n",
    "import warnings\n",
    "print('warnings imported...')\n",
    "warnings.filterwarnings('ignore')\n",
    "import time\n",
    "print('time, date imported')\n",
    "from datetime import datetime\n",
    "\n",
    "# For URL use\n",
    "import urllib3\n",
    "\n",
    "print('requests, json and urllib3 imported...')\n",
    "\n",
    "\n",
    "pd.set_option(\"display.max_columns\", None)\n",
    "pd.set_option(\"display.max_rows\", None)\n",
    "pd.options.display.max_colwidth = None\n",
    "pd.set_option(\"display.float_format\", lambda x: '%.2f' % x)\n",
    "\n",
    "from IPython.display import display, HTML\n",
    "display(HTML(\"<style>.container { width:100% !important; }</style>\"))\n",
    "\n",
    "%matplotlib inline\n",
    "\n",
    "import json\n",
    "print('json imported...')\n",
    "from pandas.io.json import json_normalize"
   ]
  },
  {
   "cell_type": "code",
   "execution_count": null,
   "id": "4def3efd",
   "metadata": {},
   "outputs": [],
   "source": [
    "AGAIN ONLY ONE CSV FILE IS PROVIDED THEREFORE I CANNOT CONTINUE THE MODELLING"
   ]
  }
 ],
 "metadata": {
  "kernelspec": {
   "display_name": "Python 3",
   "language": "python",
   "name": "python3"
  },
  "language_info": {
   "codemirror_mode": {
    "name": "ipython",
    "version": 3
   },
   "file_extension": ".py",
   "mimetype": "text/x-python",
   "name": "python",
   "nbconvert_exporter": "python",
   "pygments_lexer": "ipython3",
   "version": "3.6.13"
  }
 },
 "nbformat": 4,
 "nbformat_minor": 5
}
